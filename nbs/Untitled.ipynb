{
 "cells": [
  {
   "cell_type": "code",
   "execution_count": null,
   "id": "86f34fff-efb0-4183-95a6-f9f8f7165d53",
   "metadata": {},
   "outputs": [],
   "source": [
    "from rebase import step, pipeline, deploy, Sweep, log, Dataset\n",
    "import lightgbm as lgbm\n",
    "import pandas as pd\n",
    "import os\n"
   ]
  },
  {
   "cell_type": "code",
   "execution_count": null,
   "id": "49e6592d-8994-4efe-893e-7f2c28e4856c",
   "metadata": {},
   "outputs": [],
   "source": [
    "os.environ['REBASE_API_KEY'] = '' # if you set API key, all api calls to Rebase APIs will be authenticated"
   ]
  },
  {
   "cell_type": "code",
   "execution_count": null,
   "id": "e05ed0e0-32cc-42e6-8e7e-ca784009d56a",
   "metadata": {},
   "outputs": [],
   "source": [
    "@step\n",
    "def get_train_set():\n",
    "  df = Dataset('my_train_set.csv')\n",
    "  return lgbm.Dataset(df['features'], label=df['target'])\n",
    "\n",
    "\n",
    "@step\n",
    "def train(train_set, params):\n",
    "  evals_result = {}\n",
    "  model = lgbm.train(params, valid_sets=[train_set], evals_result=evals_result)\n",
    "\n",
    "  return {\n",
    "      'model': model,\n",
    "      'metrics': {'score': evals_result['train'][-1]}\n",
    "  }\n",
    "\n",
    "\n",
    "\n",
    "@pipeline\n",
    "def train_pipeline(params):\n",
    "    train_set = get_train_set()\n",
    "    return train(train_set, params)"
   ]
  }
 ],
 "metadata": {
  "kernelspec": {
   "display_name": "Python 3 (ipykernel)",
   "language": "python",
   "name": "python3"
  },
  "language_info": {
   "codemirror_mode": {
    "name": "ipython",
    "version": 3
   },
   "file_extension": ".py",
   "mimetype": "text/x-python",
   "name": "python",
   "nbconvert_exporter": "python",
   "pygments_lexer": "ipython3",
   "version": "3.9.12"
  }
 },
 "nbformat": 4,
 "nbformat_minor": 5
}
